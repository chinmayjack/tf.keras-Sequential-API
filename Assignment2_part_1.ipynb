{
  "nbformat": 4,
  "nbformat_minor": 0,
  "metadata": {
    "colab": {
      "name": "Assignment2_part_1.ipynb",
      "version": "0.3.2",
      "provenance": [],
      "collapsed_sections": []
    },
    "kernelspec": {
      "name": "python3",
      "display_name": "Python 3"
    }
  },
  "cells": [
    {
      "metadata": {
        "id": "0ohmWVWjZpp2",
        "colab_type": "text"
      },
      "cell_type": "markdown",
      "source": [
        " ***PART 1 - Warm up with the tf.keras Sequential API***\n"
      ]
    },
    {
      "metadata": {
        "id": "dHDKX8gr9hZf",
        "colab_type": "code",
        "colab": {}
      },
      "cell_type": "code",
      "source": [
        "import tensorflow as tf\n",
        "import matplotlib.pyplot as plt\n",
        "mnist = tf.keras.datasets.mnist\n",
        "%matplotlib inline"
      ],
      "execution_count": 0,
      "outputs": []
    },
    {
      "metadata": {
        "id": "vW_4yZY09pbv",
        "colab_type": "code",
        "colab": {}
      },
      "cell_type": "code",
      "source": [
        "(x_train, y_train),(x_test, y_test) = mnist.load_data()\n",
        "x_train, x_test = x_train / 255.0, x_test / 255.0"
      ],
      "execution_count": 0,
      "outputs": []
    },
    {
      "metadata": {
        "id": "nDq5tgfA9tge",
        "colab_type": "code",
        "colab": {}
      },
      "cell_type": "code",
      "source": [
        "model = tf.keras.models.Sequential([\n",
        "   tf.keras.layers.Flatten(),\n",
        "    tf.keras.layers.Dense(10, activation=tf.nn.softmax)\n",
        "])"
      ],
      "execution_count": 0,
      "outputs": []
    },
    {
      "metadata": {
        "id": "rEYBDWFk90Ei",
        "colab_type": "code",
        "colab": {}
      },
      "cell_type": "code",
      "source": [
        "model.compile(optimizer='adam',\n",
        "              loss='sparse_categorical_crossentropy',\n",
        "              metrics=['accuracy'])"
      ],
      "execution_count": 0,
      "outputs": []
    },
    {
      "metadata": {
        "id": "AAwk7Rkcb_ud",
        "colab_type": "code",
        "colab": {
          "base_uri": "https://localhost:8080/",
          "height": 357
        },
        "outputId": "b9f58ebd-502b-4841-9a53-9a38648bf947"
      },
      "cell_type": "code",
      "source": [
        "history = model.fit(x_train, y_train, epochs= 10)"
      ],
      "execution_count": 17,
      "outputs": [
        {
          "output_type": "stream",
          "text": [
            "Epoch 1/10\n",
            "60000/60000 [==============================] - 3s 44us/step - loss: 0.4694 - acc: 0.8773\n",
            "Epoch 2/10\n",
            "60000/60000 [==============================] - 2s 38us/step - loss: 0.3040 - acc: 0.9149\n",
            "Epoch 3/10\n",
            "60000/60000 [==============================] - 2s 39us/step - loss: 0.2833 - acc: 0.9210\n",
            "Epoch 4/10\n",
            "60000/60000 [==============================] - 2s 39us/step - loss: 0.2729 - acc: 0.9238\n",
            "Epoch 5/10\n",
            "60000/60000 [==============================] - 2s 38us/step - loss: 0.2662 - acc: 0.9257\n",
            "Epoch 6/10\n",
            "60000/60000 [==============================] - 2s 39us/step - loss: 0.2616 - acc: 0.9267\n",
            "Epoch 7/10\n",
            "60000/60000 [==============================] - 2s 39us/step - loss: 0.2582 - acc: 0.9277\n",
            "Epoch 8/10\n",
            "60000/60000 [==============================] - 2s 38us/step - loss: 0.2551 - acc: 0.9296\n",
            "Epoch 9/10\n",
            "60000/60000 [==============================] - 2s 38us/step - loss: 0.2524 - acc: 0.9305\n",
            "Epoch 10/10\n",
            "60000/60000 [==============================] - 2s 39us/step - loss: 0.2503 - acc: 0.9303\n"
          ],
          "name": "stdout"
        }
      ]
    },
    {
      "metadata": {
        "id": "CSaWprTM92ol",
        "colab_type": "code",
        "colab": {
          "base_uri": "https://localhost:8080/",
          "height": 102
        },
        "outputId": "2fffc508-9c9f-48ee-df63-b0fd9b872018"
      },
      "cell_type": "code",
      "source": [
        "linear_result = model.evaluate(x_test, y_test)\n",
        "acc  = linear_result[1]\n",
        "loss = linear_result[0]\n",
        "\n",
        "print(\"\\n\\nAccuracy Of Linear Model : \",acc)\n",
        "print(\"Loss Of Linear Model : \",loss)"
      ],
      "execution_count": 18,
      "outputs": [
        {
          "output_type": "stream",
          "text": [
            "10000/10000 [==============================] - 0s 26us/step\n",
            "\n",
            "\n",
            "Accuracy Of Linear Model :  0.9281\n",
            "Loss Of Linear Model :  0.26327944173514845\n"
          ],
          "name": "stdout"
        }
      ]
    },
    {
      "metadata": {
        "id": "fCgRnN1ZcOO0",
        "colab_type": "text"
      },
      "cell_type": "markdown",
      "source": [
        "# Accuracy: 92.81%"
      ]
    },
    {
      "metadata": {
        "id": "yfXtGmFLdE2O",
        "colab_type": "text"
      },
      "cell_type": "markdown",
      "source": [
        "#***Plotting the Accuracy and Validation Accuracy Graph***"
      ]
    },
    {
      "metadata": {
        "id": "vS6zC--0uJht",
        "colab_type": "code",
        "colab": {
          "base_uri": "https://localhost:8080/",
          "height": 294
        },
        "outputId": "183c9685-55ff-47ab-9db5-106000a76427"
      },
      "cell_type": "code",
      "source": [
        "plt.plot(history.history['acc'])\n",
        "plt.title('model accuracy')\n",
        "plt.ylabel('accuracy')\n",
        "plt.xlabel('epoch')\n",
        "plt.legend(['train'], loc='upper left')\n",
        "plt.show()"
      ],
      "execution_count": 19,
      "outputs": [
        {
          "output_type": "display_data",
          "data": {
            "image/png": "[encoded data removed]",
            "text/plain": [
              "<matplotlib.figure.Figure at 0x7f2bf93e3ac8>"
            ]
          },
          "metadata": {
            "tags": []
          }
        }
      ]
    },
    {
      "metadata": {
        "id": "Aek4XoeGc-lo",
        "colab_type": "text"
      },
      "cell_type": "markdown",
      "source": [
        "# ***Plotting the Loss and Validation Loss Graph***"
      ]
    },
    {
      "metadata": {
        "id": "4EftYChOdans",
        "colab_type": "code",
        "colab": {
          "base_uri": "https://localhost:8080/",
          "height": 294
        },
        "outputId": "988c086f-7b99-4f0e-e4ab-d731ca2a77af"
      },
      "cell_type": "code",
      "source": [
        "plt.plot(history.history['loss'])\n",
        "plt.title('model loss')\n",
        "plt.ylabel('loss')\n",
        "plt.xlabel('epoch')\n",
        "plt.legend(['train'], loc='upper left')\n",
        "plt.show()"
      ],
      "execution_count": 20,
      "outputs": [
        {
          "output_type": "display_data",
          "data": {
            "image/png": "[encoded data removed]",
            "text/plain": [
              "<matplotlib.figure.Figure at 0x7f2bf93e3630>"
            ]
          },
          "metadata": {
            "tags": []
          }
        }
      ]
    },
    {
      "metadata": {
        "id": "h82lQXywdoN2",
        "colab_type": "text"
      },
      "cell_type": "markdown",
      "source": [
        "# ***Deep Model***"
      ]
    },
    {
      "metadata": {
        "id": "lMxtEtL5duJp",
        "colab_type": "code",
        "colab": {
          "base_uri": "https://localhost:8080/",
          "height": 357
        },
        "outputId": "8ccefe7a-2e45-462d-b644-8dd7b6ae0ca3"
      },
      "cell_type": "code",
      "source": [
        "deep_model = tf.keras.models.Sequential([\n",
        "  tf.keras.layers.Flatten(),\n",
        "  tf.keras.layers.Dense(512, activation=tf.nn.relu),\n",
        "  tf.keras.layers.Dropout(0.2),\n",
        "  tf.keras.layers.Dense(10, activation=tf.nn.softmax)\n",
        "])\n",
        "deep_model.compile(optimizer='adam',\n",
        "              loss='sparse_categorical_crossentropy',\n",
        "              metrics=['accuracy'])\n",
        "\n",
        "history = deep_model.fit(x_train, y_train, epochs= 10)"
      ],
      "execution_count": 21,
      "outputs": [
        {
          "output_type": "stream",
          "text": [
            "Epoch 1/10\n",
            "60000/60000 [==============================] - 14s 233us/step - loss: 0.1965 - acc: 0.9425\n",
            "Epoch 2/10\n",
            "60000/60000 [==============================] - 14s 241us/step - loss: 0.0801 - acc: 0.9758\n",
            "Epoch 3/10\n",
            "60000/60000 [==============================] - 14s 233us/step - loss: 0.0511 - acc: 0.9839\n",
            "Epoch 4/10\n",
            "60000/60000 [==============================] - 14s 233us/step - loss: 0.0379 - acc: 0.9879\n",
            "Epoch 5/10\n",
            "60000/60000 [==============================] - 14s 235us/step - loss: 0.0259 - acc: 0.9916\n",
            "Epoch 6/10\n",
            "60000/60000 [==============================] - 15s 246us/step - loss: 0.0216 - acc: 0.9931\n",
            "Epoch 7/10\n",
            "60000/60000 [==============================] - 14s 228us/step - loss: 0.0166 - acc: 0.9946\n",
            "Epoch 8/10\n",
            "60000/60000 [==============================] - 15s 253us/step - loss: 0.0141 - acc: 0.9951\n",
            "Epoch 9/10\n",
            "60000/60000 [==============================] - 14s 236us/step - loss: 0.0109 - acc: 0.9967\n",
            "Epoch 10/10\n",
            "60000/60000 [==============================] - 14s 238us/step - loss: 0.0131 - acc: 0.9959\n"
          ],
          "name": "stdout"
        }
      ]
    },
    {
      "metadata": {
        "id": "0oqRRT0ZdxEP",
        "colab_type": "code",
        "colab": {
          "base_uri": "https://localhost:8080/",
          "height": 102
        },
        "outputId": "3767710d-56c7-4a89-aa1e-bb1ae2e6808a"
      },
      "cell_type": "code",
      "source": [
        "result = deep_model.evaluate(x_test, y_test)\n",
        "acc  = result[1]\n",
        "loss = result[0]\n",
        "\n",
        "print(\"\\n\\nAccuracy Of Deep Model : \",acc)\n",
        "print(\"Loss Of Deep Model : \",loss)"
      ],
      "execution_count": 22,
      "outputs": [
        {
          "output_type": "stream",
          "text": [
            "10000/10000 [==============================] - 1s 72us/step\n",
            "\n",
            "\n",
            "Accuracy Of Deep Model :  0.9821\n",
            "Loss Of Deep Model :  0.07125292609625576\n"
          ],
          "name": "stdout"
        }
      ]
    },
    {
      "metadata": {
        "id": "WRyHLArHe1AN",
        "colab_type": "text"
      },
      "cell_type": "markdown",
      "source": [
        "\n",
        "# Test Accuracy of Deep Model : 98%"
      ]
    },
    {
      "metadata": {
        "id": "wtyR9abKgejh",
        "colab_type": "text"
      },
      "cell_type": "markdown",
      "source": [
        "## ***Ploting the Accuracy and Validation Accuracy Graph***"
      ]
    },
    {
      "metadata": {
        "id": "qDwNgYFKgl_q",
        "colab_type": "code",
        "colab": {
          "base_uri": "https://localhost:8080/",
          "height": 294
        },
        "outputId": "e73565d3-8754-441c-e13e-25c4b4d0d4f1"
      },
      "cell_type": "code",
      "source": [
        "plt.plot(history.history['acc'])\n",
        "plt.title('model accuracy')\n",
        "plt.ylabel('accuracy')\n",
        "plt.xlabel('epoch')\n",
        "plt.legend(['train'], loc='upper left')\n",
        "plt.show()"
      ],
      "execution_count": 23,
      "outputs": [
        {
          "output_type": "display_data",
          "data": {
            "image/png": "[encoded data removed]",
            "text/plain": [
              "<matplotlib.figure.Figure at 0x7f2bf72e02e8>"
            ]
          },
          "metadata": {
            "tags": []
          }
        }
      ]
    },
    {
      "metadata": {
        "id": "XdDHvziDgrJg",
        "colab_type": "text"
      },
      "cell_type": "markdown",
      "source": [
        "***Plotting the Loss and Validation Loss Graph***"
      ]
    },
    {
      "metadata": {
        "id": "wP-50wklgvg2",
        "colab_type": "code",
        "colab": {
          "base_uri": "https://localhost:8080/",
          "height": 294
        },
        "outputId": "80cc1aca-7b37-41fe-efc1-00ab94299d7b"
      },
      "cell_type": "code",
      "source": [
        "plt.plot(history.history['loss'])\n",
        "plt.title('model loss')\n",
        "plt.ylabel('loss')\n",
        "plt.xlabel('epoch')\n",
        "plt.legend(['train'], loc='upper left')\n",
        "plt.show()"
      ],
      "execution_count": 24,
      "outputs": [
        {
          "output_type": "display_data",
          "data": {
            "image/png": "[encoded data removed]",
            "text/plain": [
              "<matplotlib.figure.Figure at 0x7f2bf6e3f198>"
            ]
          },
          "metadata": {
            "tags": []
          }
        }
      ]
    },
    {
      "metadata": {
        "id": "B0rrg2yVgylJ",
        "colab_type": "code",
        "colab": {}
      },
      "cell_type": "code",
      "source": [
        ""
      ],
      "execution_count": 0,
      "outputs": []
    }
  ]
}