{
  "nbformat": 4,
  "nbformat_minor": 0,
  "metadata": {
    "colab": {
      "name": "Assignment2_part_2.ipynb",
      "version": "0.3.2",
      "provenance": [],
      "collapsed_sections": []
    },
    "kernelspec": {
      "name": "python3",
      "display_name": "Python 3"
    }
  },
  "cells": [
    {
      "metadata": {
        "id": "6X3HJOWZlUs3",
        "colab_type": "text"
      },
      "cell_type": "markdown",
      "source": [
        "# Experiments using tf.keras model subclassing and eager"
      ]
    },
    {
      "metadata": {
        "id": "0gl3968Qla42",
        "colab_type": "code",
        "colab": {}
      },
      "cell_type": "code",
      "source": [
        "import tensorflow as tf\n",
        "tf.enable_eager_execution()\n",
        "tfe = tf.contrib.eager\n",
        "\n",
        "import numpy as np\n",
        "\n",
        "import matplotlib.pylab as plt\n",
        "%matplotlib inline"
      ],
      "execution_count": 0,
      "outputs": []
    },
    {
      "metadata": {
        "id": "j0BQzoBslcsM",
        "colab_type": "code",
        "colab": {}
      },
      "cell_type": "code",
      "source": [
        "mnist = tf.keras.datasets.mnist\n",
        "\n",
        "# Dataset will be cached locally after you run this code\n",
        "(x_train, y_train), (x_test, y_test) = mnist.load_data()\n",
        "\n",
        "# Normalize pixel values to [0, 1]\n",
        "x_train, x_test = x_train / 255.0, x_test / 255.0\n",
        "\n",
        "# These types are required for the operation we use to compute\n",
        "# loss. Omit, and you shall receive a cryptic error message.\n",
        "y_train = y_train.astype(np.int32)\n",
        "y_test = y_test.astype(np.int32)"
      ],
      "execution_count": 0,
      "outputs": []
    },
    {
      "metadata": {
        "id": "1tLmQMabnSPq",
        "colab_type": "code",
        "colab": {}
      },
      "cell_type": "code",
      "source": [
        "buffer_size = 5000\n",
        "batch_size = 100\n",
        "\n",
        "train_dataset = tf.data.Dataset.from_tensor_slices((x_train, y_train)).shuffle(buffer_size)\n",
        "train_dataset = train_dataset.batch(batch_size)"
      ],
      "execution_count": 0,
      "outputs": []
    },
    {
      "metadata": {
        "id": "7iEsH-dtnU2k",
        "colab_type": "code",
        "colab": {}
      },
      "cell_type": "code",
      "source": [
        "def loss(log, lab):\n",
        "  # FIX ME\n",
        "  # You will need to modify this function, of course.\n",
        "  # Best bet, use tf.nn.sparse_softmax_cross_entropy_with_logits\n",
        "  # though if you're interested, you can write your own.\n",
        "    result = tf.reduce_mean(tf.nn.sparse_softmax_cross_entropy_with_logits(labels = lab, logits= log))\n",
        "    return result"
      ],
      "execution_count": 0,
      "outputs": []
    },
    {
      "metadata": {
        "id": "7YGvN5EbnYn6",
        "colab_type": "code",
        "colab": {}
      },
      "cell_type": "code",
      "source": [
        "def compute_accuracy(logits, labels):\n",
        "    # You shoud not need to modify this function\n",
        "    predictions = tf.argmax(logits, axis=1)\n",
        "    batch_size = int(logits.shape[0])\n",
        "    return tf.reduce_sum(\n",
        "      tf.cast(tf.equal(predictions, labels), dtype=tf.float32)) / batch_size"
      ],
      "execution_count": 0,
      "outputs": []
    },
    {
      "metadata": {
        "id": "F7cRNluAnbmS",
        "colab_type": "code",
        "colab": {}
      },
      "cell_type": "code",
      "source": [
        "def train(model, images, labels):\n",
        "  # You should not need to modify this function\n",
        "  \n",
        "    with tf.GradientTape() as tape:\n",
        "        logits = model(images)\n",
        "        loss_value = loss(logits, labels)\n",
        "\n",
        "        grads = tape.gradient(loss_value, model.variables)\n",
        "        optimizer.apply_gradients(zip(grads, model.variables))\n",
        "  \n",
        "    return loss_value"
      ],
      "execution_count": 0,
      "outputs": []
    },
    {
      "metadata": {
        "id": "5yWMi5ounfnv",
        "colab_type": "code",
        "colab": {}
      },
      "cell_type": "code",
      "source": [
        "optimizer = tf.train.GradientDescentOptimizer(learning_rate=0.2)"
      ],
      "execution_count": 0,
      "outputs": []
    },
    {
      "metadata": {
        "id": "rk4FoS3inqBi",
        "colab_type": "text"
      },
      "cell_type": "markdown",
      "source": [
        "***Linear Model***"
      ]
    },
    {
      "metadata": {
        "id": "L65HfsXnnup1",
        "colab_type": "code",
        "colab": {}
      },
      "cell_type": "code",
      "source": [
        "class LinearModel(tf.keras.Model):\n",
        "    def __init__(self):\n",
        "        super(LinearModel, self).__init__()\n",
        "        self.flatten = tf.keras.layers.Flatten()\n",
        "        self.dense_1 = tf.keras.layers.Dense(10, activation=tf.nn.softmax)\n",
        "    # FIX ME\n",
        "    # add some layers to your model\n",
        "\n",
        "    def call(self, x):\n",
        "        x = self.flatten(x)\n",
        "        x = self.dense_1(x)\n",
        "        return x"
      ],
      "execution_count": 0,
      "outputs": []
    },
    {
      "metadata": {
        "id": "W93b95Aunw8_",
        "colab_type": "code",
        "outputId": "adb7da48-54c0-490b-82fd-6a4a4c18d9cf",
        "colab": {
          "base_uri": "https://localhost:8080/",
          "height": 1547
        }
      },
      "cell_type": "code",
      "source": [
        "model = LinearModel()\n",
        "\n",
        "accuracy_dict_linear ={}\n",
        "loss_dict_linear = {}\n",
        "\n",
        "epochs = 10\n",
        "step_counter = 0\n",
        "\n",
        "for epoch_n in range(epochs):\n",
        "  print('Epoch #%d' % (epoch_n))\n",
        "  for (batch, (images, labels)) in enumerate(train_dataset):\n",
        "    loss_value = train(model, images, labels)\n",
        "    step_counter +=1\n",
        "  \n",
        "    if step_counter % 100 == 0:\n",
        "      print('Step #%d\\tLoss: %.4f' % (step_counter, loss_value))\n",
        "      loss_dict_linear[step_counter] = loss_value\n",
        "\n",
        "  test_accuracy = compute_accuracy(model(x_test), y_test)\n",
        "  print('Accuracy #%.2f\\n' % (test_accuracy))\n",
        "  accuracy_dict_linear[epoch_n] = test_accuracy"
      ],
      "execution_count": 73,
      "outputs": [
        {
          "output_type": "stream",
          "text": [
            "Epoch #0\n",
            "Step #100\tLoss: 1.9288\n",
            "Step #200\tLoss: 1.7877\n",
            "Step #300\tLoss: 1.7938\n",
            "Step #400\tLoss: 1.7683\n",
            "Step #500\tLoss: 1.7512\n",
            "Step #600\tLoss: 1.6283\n",
            "Accuracy #0.84\n",
            "\n",
            "Epoch #1\n",
            "Step #700\tLoss: 1.6254\n",
            "Step #800\tLoss: 1.6396\n",
            "Step #900\tLoss: 1.6382\n",
            "Step #1000\tLoss: 1.6679\n",
            "Step #1100\tLoss: 1.7128\n",
            "Step #1200\tLoss: 1.5776\n",
            "Accuracy #0.89\n",
            "\n",
            "Epoch #2\n",
            "Step #1300\tLoss: 1.6008\n",
            "Step #1400\tLoss: 1.6046\n",
            "Step #1500\tLoss: 1.5834\n",
            "Step #1600\tLoss: 1.6117\n",
            "Step #1700\tLoss: 1.5622\n",
            "Step #1800\tLoss: 1.6069\n",
            "Accuracy #0.90\n",
            "\n",
            "Epoch #3\n",
            "Step #1900\tLoss: 1.6359\n",
            "Step #2000\tLoss: 1.6142\n",
            "Step #2100\tLoss: 1.5846\n",
            "Step #2200\tLoss: 1.6065\n",
            "Step #2300\tLoss: 1.5675\n",
            "Step #2400\tLoss: 1.5513\n",
            "Accuracy #0.91\n",
            "\n",
            "Epoch #4\n",
            "Step #2500\tLoss: 1.5675\n",
            "Step #2600\tLoss: 1.6193\n",
            "Step #2700\tLoss: 1.5721\n",
            "Step #2800\tLoss: 1.6190\n",
            "Step #2900\tLoss: 1.5460\n",
            "Step #3000\tLoss: 1.5478\n",
            "Accuracy #0.91\n",
            "\n",
            "Epoch #5\n",
            "Step #3100\tLoss: 1.5938\n",
            "Step #3200\tLoss: 1.5434\n",
            "Step #3300\tLoss: 1.5943\n",
            "Step #3400\tLoss: 1.5922\n",
            "Step #3500\tLoss: 1.5496\n",
            "Step #3600\tLoss: 1.5363\n",
            "Accuracy #0.91\n",
            "\n",
            "Epoch #6\n",
            "Step #3700\tLoss: 1.6474\n",
            "Step #3800\tLoss: 1.5476\n",
            "Step #3900\tLoss: 1.6199\n",
            "Step #4000\tLoss: 1.5483\n",
            "Step #4100\tLoss: 1.5567\n",
            "Step #4200\tLoss: 1.5402\n",
            "Accuracy #0.91\n",
            "\n",
            "Epoch #7\n",
            "Step #4300\tLoss: 1.5907\n",
            "Step #4400\tLoss: 1.6105\n",
            "Step #4500\tLoss: 1.5930\n",
            "Step #4600\tLoss: 1.6007\n",
            "Step #4700\tLoss: 1.5985\n",
            "Step #4800\tLoss: 1.5095\n",
            "Accuracy #0.91\n",
            "\n",
            "Epoch #8\n",
            "Step #4900\tLoss: 1.5777\n",
            "Step #5000\tLoss: 1.5868\n",
            "Step #5100\tLoss: 1.5632\n",
            "Step #5200\tLoss: 1.5823\n",
            "Step #5300\tLoss: 1.5356\n",
            "Step #5400\tLoss: 1.5856\n",
            "Accuracy #0.92\n",
            "\n",
            "Epoch #9\n",
            "Step #5500\tLoss: 1.5799\n",
            "Step #5600\tLoss: 1.5794\n",
            "Step #5700\tLoss: 1.5631\n",
            "Step #5800\tLoss: 1.6113\n",
            "Step #5900\tLoss: 1.5539\n",
            "Step #6000\tLoss: 1.5616\n",
            "Accuracy #0.92\n",
            "\n"
          ],
          "name": "stdout"
        }
      ]
    },
    {
      "metadata": {
        "id": "flnzlz6AoyIQ",
        "colab_type": "text"
      },
      "cell_type": "markdown",
      "source": [
        "# Linear Model:Loss"
      ]
    },
    {
      "metadata": {
        "id": "C-DLw8Hno5bw",
        "colab_type": "code",
        "outputId": "734dce6e-9435-46e6-f387-d4123fe5087f",
        "colab": {
          "base_uri": "https://localhost:8080/",
          "height": 283
        }
      },
      "cell_type": "code",
      "source": [
        "loss_list_linear = sorted(loss_dict_linear.items())\n",
        "x, y = zip(*loss_list_linear) \n",
        "\n",
        "plt.plot(x, y)\n",
        "plt.xlabel('Steps', fontsize=15)\n",
        "plt.ylabel('Loss', fontsize=15)\n",
        "plt.show()"
      ],
      "execution_count": 74,
      "outputs": [
        {
          "output_type": "display_data",
          "data": {
            "image/png": "[encoded data removed]",
            "text/plain": [
              "<matplotlib.figure.Figure at 0x7f44110fa400>"
            ]
          },
          "metadata": {
            "tags": []
          }
        }
      ]
    },
    {
      "metadata": {
        "id": "ZNfmbAAxo-j1",
        "colab_type": "text"
      },
      "cell_type": "markdown",
      "source": [
        "# Linear Model: Accuracy"
      ]
    },
    {
      "metadata": {
        "id": "q5YgpNdCpEd5",
        "colab_type": "code",
        "outputId": "d94e8dc2-b121-4c41-9aa7-e07200c3b54a",
        "colab": {
          "base_uri": "https://localhost:8080/",
          "height": 288
        }
      },
      "cell_type": "code",
      "source": [
        "acc_list_linear = sorted(accuracy_dict_linear.items())\n",
        "\n",
        "x, y = zip(*acc_list_linear) \n",
        "\n",
        "plt.plot(x, y)\n",
        "plt.xlabel('Epochs', fontsize=18)\n",
        "plt.ylabel('Accuracy', fontsize=16)\n",
        "plt.show()"
      ],
      "execution_count": 75,
      "outputs": [
        {
          "output_type": "display_data",
          "data": {
            "image/png": "[encoded data removed]",
            "text/plain": [
              "<matplotlib.figure.Figure at 0x7f4410f01320>"
            ]
          },
          "metadata": {
            "tags": []
          }
        }
      ]
    },
    {
      "metadata": {
        "id": "X-n-6Bc3pYxS",
        "colab_type": "text"
      },
      "cell_type": "markdown",
      "source": [
        "# Deep Model"
      ]
    },
    {
      "metadata": {
        "id": "Ar4rW5b1pe7X",
        "colab_type": "code",
        "colab": {}
      },
      "cell_type": "code",
      "source": [
        "class DeepModel(tf.keras.Model):\n",
        "    def __init__(self):\n",
        "        super(DeepModel, self).__init__()\n",
        "        self.flatten  = tf.keras.layers.Flatten()\n",
        "        self.dense_1  = tf.keras.layers.Dense(512, activation=tf.nn.relu)\n",
        "        self.droupout = tf.keras.layers.Dropout(0.2)\n",
        "        self.dense_2  = tf.keras.layers.Dense(10)\n",
        "   \n",
        "\n",
        "    def call(self, x):\n",
        "        x = self.flatten(x)\n",
        "        x = self.dense_1(x)\n",
        "        x = self.droupout(x)\n",
        "        x = self.dense_2(x)\n",
        "        return x"
      ],
      "execution_count": 0,
      "outputs": []
    },
    {
      "metadata": {
        "id": "t40trBBTpuna",
        "colab_type": "code",
        "outputId": "97725676-5268-49ce-a345-24058fa42ba1",
        "colab": {
          "base_uri": "https://localhost:8080/",
          "height": 1547
        }
      },
      "cell_type": "code",
      "source": [
        "model = DeepModel()\n",
        "\n",
        "\n",
        "loss_dict_deep = {}\n",
        "accuracy_dict_deep = {}\n",
        "\n",
        "epochs = 10\n",
        "step_counter = 0\n",
        "\n",
        "for epoch_n in range(epochs):\n",
        "  print('Epoch #%d' % (epoch_n))\n",
        "  for (batch, (images, labels)) in enumerate(train_dataset):\n",
        "    loss_value = train(model, images, labels)\n",
        "    step_counter +=1\n",
        "  \n",
        "    if step_counter % 100 == 0:\n",
        "      print('Step #%d\\tLoss: %.4f' % (step_counter, loss_value))\n",
        "      loss_dict_deep[step_counter] = loss_value\n",
        "\n",
        "  test_accuracy = compute_accuracy(model(x_test), y_test)\n",
        "  print('Accuracy #%.2f\\n' % (test_accuracy))\n",
        "  accuracy_dict_deep[epoch_n] = test_accuracy"
      ],
      "execution_count": 77,
      "outputs": [
        {
          "output_type": "stream",
          "text": [
            "Epoch #0\n",
            "Step #100\tLoss: 0.4238\n",
            "Step #200\tLoss: 0.4416\n",
            "Step #300\tLoss: 0.2202\n",
            "Step #400\tLoss: 0.2918\n",
            "Step #500\tLoss: 0.1505\n",
            "Step #600\tLoss: 0.1783\n",
            "Accuracy #0.95\n",
            "\n",
            "Epoch #1\n",
            "Step #700\tLoss: 0.2669\n",
            "Step #800\tLoss: 0.1055\n",
            "Step #900\tLoss: 0.1447\n",
            "Step #1000\tLoss: 0.1852\n",
            "Step #1100\tLoss: 0.1549\n",
            "Step #1200\tLoss: 0.1704\n",
            "Accuracy #0.96\n",
            "\n",
            "Epoch #2\n",
            "Step #1300\tLoss: 0.0977\n",
            "Step #1400\tLoss: 0.1362\n",
            "Step #1500\tLoss: 0.0698\n",
            "Step #1600\tLoss: 0.1646\n",
            "Step #1700\tLoss: 0.1265\n",
            "Step #1800\tLoss: 0.1033\n",
            "Accuracy #0.97\n",
            "\n",
            "Epoch #3\n",
            "Step #1900\tLoss: 0.0475\n",
            "Step #2000\tLoss: 0.0957\n",
            "Step #2100\tLoss: 0.0596\n",
            "Step #2200\tLoss: 0.0803\n",
            "Step #2300\tLoss: 0.1568\n",
            "Step #2400\tLoss: 0.0656\n",
            "Accuracy #0.97\n",
            "\n",
            "Epoch #4\n",
            "Step #2500\tLoss: 0.0748\n",
            "Step #2600\tLoss: 0.0567\n",
            "Step #2700\tLoss: 0.0571\n",
            "Step #2800\tLoss: 0.0376\n",
            "Step #2900\tLoss: 0.1748\n",
            "Step #3000\tLoss: 0.0484\n",
            "Accuracy #0.97\n",
            "\n",
            "Epoch #5\n",
            "Step #3100\tLoss: 0.0568\n",
            "Step #3200\tLoss: 0.0430\n",
            "Step #3300\tLoss: 0.0576\n",
            "Step #3400\tLoss: 0.0524\n",
            "Step #3500\tLoss: 0.0669\n",
            "Step #3600\tLoss: 0.0310\n",
            "Accuracy #0.98\n",
            "\n",
            "Epoch #6\n",
            "Step #3700\tLoss: 0.0664\n",
            "Step #3800\tLoss: 0.0268\n",
            "Step #3900\tLoss: 0.0733\n",
            "Step #4000\tLoss: 0.0714\n",
            "Step #4100\tLoss: 0.0739\n",
            "Step #4200\tLoss: 0.0410\n",
            "Accuracy #0.98\n",
            "\n",
            "Epoch #7\n",
            "Step #4300\tLoss: 0.0338\n",
            "Step #4400\tLoss: 0.0322\n",
            "Step #4500\tLoss: 0.0388\n",
            "Step #4600\tLoss: 0.1412\n",
            "Step #4700\tLoss: 0.0145\n",
            "Step #4800\tLoss: 0.0575\n",
            "Accuracy #0.98\n",
            "\n",
            "Epoch #8\n",
            "Step #4900\tLoss: 0.0528\n",
            "Step #5000\tLoss: 0.0465\n",
            "Step #5100\tLoss: 0.1867\n",
            "Step #5200\tLoss: 0.0151\n",
            "Step #5300\tLoss: 0.0787\n",
            "Step #5400\tLoss: 0.0400\n",
            "Accuracy #0.98\n",
            "\n",
            "Epoch #9\n",
            "Step #5500\tLoss: 0.0221\n",
            "Step #5600\tLoss: 0.0186\n",
            "Step #5700\tLoss: 0.0164\n",
            "Step #5800\tLoss: 0.0445\n",
            "Step #5900\tLoss: 0.0220\n",
            "Step #6000\tLoss: 0.0052\n",
            "Accuracy #0.98\n",
            "\n"
          ],
          "name": "stdout"
        }
      ]
    },
    {
      "metadata": {
        "id": "m3TSKGaRqnii",
        "colab_type": "text"
      },
      "cell_type": "markdown",
      "source": [
        "***Deep model: Loss***"
      ]
    },
    {
      "metadata": {
        "id": "_TQVDKq3qsc2",
        "colab_type": "code",
        "outputId": "b6ce815c-73ae-4135-dd4c-daf852dc1d49",
        "colab": {
          "base_uri": "https://localhost:8080/",
          "height": 283
        }
      },
      "cell_type": "code",
      "source": [
        "loss_list_deep = sorted(loss_dict_deep.items())\n",
        "\n",
        "x, y = zip(*loss_list_deep) \n",
        "\n",
        "plt.plot(x, y)\n",
        "plt.xlabel('Steps', fontsize=15)\n",
        "plt.ylabel('Loss', fontsize=15)\n",
        "plt.show()"
      ],
      "execution_count": 80,
      "outputs": [
        {
          "output_type": "display_data",
          "data": {
            "image/png": "[encoded data removed]",
            "text/plain": [
              "<matplotlib.figure.Figure at 0x7f4410db4160>"
            ]
          },
          "metadata": {
            "tags": []
          }
        }
      ]
    },
    {
      "metadata": {
        "id": "BBPfnMFUq1a_",
        "colab_type": "text"
      },
      "cell_type": "markdown",
      "source": [
        "# Deep Model: Accuracy"
      ]
    },
    {
      "metadata": {
        "id": "QpZLfndwrJBi",
        "colab_type": "code",
        "outputId": "195c5f38-5ab1-49c7-fc6d-62da10b4a6b5",
        "colab": {
          "base_uri": "https://localhost:8080/",
          "height": 286
        }
      },
      "cell_type": "code",
      "source": [
        "acc_list_deep = sorted(accuracy_dict_deep.items())\n",
        "\n",
        "x, y = zip(*acc_list_deep) \n",
        "\n",
        "plt.plot(x, y)\n",
        "plt.xlabel('Epochs', fontsize=18)\n",
        "plt.ylabel('Accuracy', fontsize=16)\n",
        "plt.show()"
      ],
      "execution_count": 79,
      "outputs": [
        {
          "output_type": "display_data",
          "data": {
            "image/png": "[encoded data removed]",
            "text/plain": [
              "<matplotlib.figure.Figure at 0x7f4410e9a0f0>"
            ]
          },
          "metadata": {
            "tags": []
          }
        }
      ]
    },
    {
      "metadata": {
        "id": "7HuxEabPs1S0",
        "colab_type": "text"
      },
      "cell_type": "markdown",
      "source": [
        "#***Design and run experiments to compare:***\n",
        "***High, low, and reasonable learning rates.***"
      ]
    },
    {
      "metadata": {
        "id": "Z-Zk1tuztAv2",
        "colab_type": "code",
        "colab": {}
      },
      "cell_type": "code",
      "source": [
        "optimizer = tf.train.GradientDescentOptimizer(learning_rate=0.3)"
      ],
      "execution_count": 0,
      "outputs": []
    },
    {
      "metadata": {
        "id": "zg71mjhFtLQ4",
        "colab_type": "code",
        "colab": {}
      },
      "cell_type": "code",
      "source": [
        "class DeepModel(tf.keras.Model):\n",
        "    def __init__(self):\n",
        "        super(DeepModel, self).__init__()\n",
        "        self.flatten  = tf.keras.layers.Flatten()\n",
        "        self.dense_1  = tf.keras.layers.Dense(512, activation=tf.nn.relu)\n",
        "        self.droupout = tf.keras.layers.Dropout(0.2)\n",
        "        self.dense_2  = tf.keras.layers.Dense(10)\n",
        "   \n",
        "\n",
        "    def call(self, x):\n",
        "        x = self.flatten(x)\n",
        "        x = self.dense_1(x)\n",
        "        x = self.droupout(x)\n",
        "        x = self.dense_2(x)\n",
        "        return x\n",
        "      \n"
      ],
      "execution_count": 0,
      "outputs": []
    },
    {
      "metadata": {
        "id": "DpcMQCOSuCtz",
        "colab_type": "code",
        "colab": {
          "base_uri": "https://localhost:8080/",
          "height": 1547
        },
        "outputId": "fa5a1977-cc66-4373-8f94-7cd9fb27f8ad"
      },
      "cell_type": "code",
      "source": [
        "model = DeepModel()\n",
        "\n",
        "\n",
        "loss_dict_deep = {}\n",
        "accuracy_dict_deep = {}\n",
        "\n",
        "epochs = 10\n",
        "step_counter = 0\n",
        "\n",
        "for epoch_n in range(epochs):\n",
        "  print('Epoch #%d' % (epoch_n))\n",
        "  for (batch, (images, labels)) in enumerate(train_dataset):\n",
        "    loss_value = train(model, images, labels)\n",
        "    step_counter +=1\n",
        "  \n",
        "    if step_counter % 100 == 0:\n",
        "      print('Step #%d\\tLoss: %.4f' % (step_counter, loss_value))\n",
        "      loss_dict_deep[step_counter] = loss_value\n",
        "\n",
        "  test_accuracy = compute_accuracy(model(x_test), y_test)\n",
        "  print('Accuracy #%.2f\\n' % (test_accuracy))\n",
        "  accuracy_dict_deep[epoch_n] = test_accuracy"
      ],
      "execution_count": 81,
      "outputs": [
        {
          "output_type": "stream",
          "text": [
            "Epoch #0\n",
            "Step #100\tLoss: 0.4110\n",
            "Step #200\tLoss: 0.2171\n",
            "Step #300\tLoss: 0.2122\n",
            "Step #400\tLoss: 0.2863\n",
            "Step #500\tLoss: 0.2434\n",
            "Step #600\tLoss: 0.1546\n",
            "Accuracy #0.95\n",
            "\n",
            "Epoch #1\n",
            "Step #700\tLoss: 0.1654\n",
            "Step #800\tLoss: 0.1915\n",
            "Step #900\tLoss: 0.0973\n",
            "Step #1000\tLoss: 0.1450\n",
            "Step #1100\tLoss: 0.0531\n",
            "Step #1200\tLoss: 0.0642\n",
            "Accuracy #0.96\n",
            "\n",
            "Epoch #2\n",
            "Step #1300\tLoss: 0.1670\n",
            "Step #1400\tLoss: 0.1707\n",
            "Step #1500\tLoss: 0.1246\n",
            "Step #1600\tLoss: 0.1419\n",
            "Step #1700\tLoss: 0.1380\n",
            "Step #1800\tLoss: 0.0720\n",
            "Accuracy #0.97\n",
            "\n",
            "Epoch #3\n",
            "Step #1900\tLoss: 0.0409\n",
            "Step #2000\tLoss: 0.1043\n",
            "Step #2100\tLoss: 0.1135\n",
            "Step #2200\tLoss: 0.0492\n",
            "Step #2300\tLoss: 0.0984\n",
            "Step #2400\tLoss: 0.0414\n",
            "Accuracy #0.97\n",
            "\n",
            "Epoch #4\n",
            "Step #2500\tLoss: 0.0362\n",
            "Step #2600\tLoss: 0.0845\n",
            "Step #2700\tLoss: 0.0705\n",
            "Step #2800\tLoss: 0.0881\n",
            "Step #2900\tLoss: 0.0835\n",
            "Step #3000\tLoss: 0.1020\n",
            "Accuracy #0.97\n",
            "\n",
            "Epoch #5\n",
            "Step #3100\tLoss: 0.1235\n",
            "Step #3200\tLoss: 0.0323\n",
            "Step #3300\tLoss: 0.0785\n",
            "Step #3400\tLoss: 0.0948\n",
            "Step #3500\tLoss: 0.0735\n",
            "Step #3600\tLoss: 0.0952\n",
            "Accuracy #0.98\n",
            "\n",
            "Epoch #6\n",
            "Step #3700\tLoss: 0.1001\n",
            "Step #3800\tLoss: 0.1119\n",
            "Step #3900\tLoss: 0.0421\n",
            "Step #4000\tLoss: 0.0773\n",
            "Step #4100\tLoss: 0.1043\n",
            "Step #4200\tLoss: 0.0436\n",
            "Accuracy #0.98\n",
            "\n",
            "Epoch #7\n",
            "Step #4300\tLoss: 0.0882\n",
            "Step #4400\tLoss: 0.0557\n",
            "Step #4500\tLoss: 0.0882\n",
            "Step #4600\tLoss: 0.0942\n",
            "Step #4700\tLoss: 0.0356\n",
            "Step #4800\tLoss: 0.0388\n",
            "Accuracy #0.98\n",
            "\n",
            "Epoch #8\n",
            "Step #4900\tLoss: 0.0419\n",
            "Step #5000\tLoss: 0.0226\n",
            "Step #5100\tLoss: 0.0385\n",
            "Step #5200\tLoss: 0.0613\n",
            "Step #5300\tLoss: 0.0724\n",
            "Step #5400\tLoss: 0.0120\n",
            "Accuracy #0.98\n",
            "\n",
            "Epoch #9\n",
            "Step #5500\tLoss: 0.1032\n",
            "Step #5600\tLoss: 0.0764\n",
            "Step #5700\tLoss: 0.0344\n",
            "Step #5800\tLoss: 0.0978\n",
            "Step #5900\tLoss: 0.0483\n",
            "Step #6000\tLoss: 0.0478\n",
            "Accuracy #0.98\n",
            "\n"
          ],
          "name": "stdout"
        }
      ]
    },
    {
      "metadata": {
        "id": "UEsKzOcCuG0e",
        "colab_type": "code",
        "colab": {
          "base_uri": "https://localhost:8080/",
          "height": 283
        },
        "outputId": "16a42a19-eeb9-4131-9267-de3328439024"
      },
      "cell_type": "code",
      "source": [
        "loss_list_deep = sorted(loss_dict_deep.items())\n",
        "\n",
        "x, y = zip(*loss_list_deep) \n",
        "\n",
        "plt.plot(x, y)\n",
        "plt.xlabel('Steps', fontsize=15)\n",
        "plt.ylabel('Loss', fontsize=15)\n",
        "plt.show()"
      ],
      "execution_count": 82,
      "outputs": [
        {
          "output_type": "display_data",
          "data": {
            "image/png": "[encoded data removed]",
            "text/plain": [
              "<matplotlib.figure.Figure at 0x7f4410d9b208>"
            ]
          },
          "metadata": {
            "tags": []
          }
        }
      ]
    },
    {
      "metadata": {
        "id": "PdCRPy0tvxVu",
        "colab_type": "code",
        "colab": {
          "base_uri": "https://localhost:8080/",
          "height": 286
        },
        "outputId": "e6c7a30b-1dcc-4e39-8609-a07e6f20f6c4"
      },
      "cell_type": "code",
      "source": [
        "acc_list_deep = sorted(accuracy_dict_deep.items())\n",
        "\n",
        "x, y = zip(*acc_list_deep) \n",
        "\n",
        "plt.plot(x, y)\n",
        "plt.xlabel('Epochs', fontsize=18)\n",
        "plt.ylabel('Accuracy', fontsize=16)\n",
        "plt.show()"
      ],
      "execution_count": 83,
      "outputs": [
        {
          "output_type": "display_data",
          "data": {
            "image/png": "[encoded data removed]",
            "text/plain": [
              "<matplotlib.figure.Figure at 0x7f4410d679b0>"
            ]
          },
          "metadata": {
            "tags": []
          }
        }
      ]
    },
    {
      "metadata": {
        "id": "fOHA8GCgv07x",
        "colab_type": "code",
        "colab": {}
      },
      "cell_type": "code",
      "source": [
        "optimizer = tf.train.GradientDescentOptimizer(learning_rate=0.3)"
      ],
      "execution_count": 0,
      "outputs": []
    },
    {
      "metadata": {
        "id": "pKoQ6iuWxAct",
        "colab_type": "code",
        "colab": {}
      },
      "cell_type": "code",
      "source": [
        "class DeepModel(tf.keras.Model):\n",
        "    def __init__(self):\n",
        "        super(DeepModel, self).__init__()\n",
        "        self.flatten  = tf.keras.layers.Flatten()\n",
        "        self.dense_1  = tf.keras.layers.Dense(512, activation=tf.nn.relu)\n",
        "        self.droupout = tf.keras.layers.Dropout(0.2)\n",
        "        self.dense_2  = tf.keras.layers.Dense(10)\n",
        "   \n",
        "\n",
        "    def call(self, x):\n",
        "        x = self.flatten(x)\n",
        "        x = self.dense_1(x)\n",
        "        x = self.droupout(x)\n",
        "        x = self.dense_2(x)\n",
        "        return x"
      ],
      "execution_count": 0,
      "outputs": []
    },
    {
      "metadata": {
        "id": "ntdMwLAdxA8H",
        "colab_type": "code",
        "colab": {
          "base_uri": "https://localhost:8080/",
          "height": 1547
        },
        "outputId": "e379d69b-59fb-4b71-a2a6-8cbc3ee01616"
      },
      "cell_type": "code",
      "source": [
        "model = DeepModel()\n",
        "\n",
        "\n",
        "loss_dict_deep = {}\n",
        "accuracy_dict_deep = {}\n",
        "\n",
        "epochs = 10\n",
        "step_counter = 0\n",
        "\n",
        "for epoch_n in range(epochs):\n",
        "  print('Epoch #%d' % (epoch_n))\n",
        "  for (batch, (images, labels)) in enumerate(train_dataset):\n",
        "    loss_value = train(model, images, labels)\n",
        "    step_counter +=1\n",
        "  \n",
        "    if step_counter % 100 == 0:\n",
        "      print('Step #%d\\tLoss: %.4f' % (step_counter, loss_value))\n",
        "      loss_dict_deep[step_counter] = loss_value\n",
        "\n",
        "  test_accuracy = compute_accuracy(model(x_test), y_test)\n",
        "  print('Accuracy #%.2f\\n' % (test_accuracy))\n",
        "  accuracy_dict_deep[epoch_n] = test_accuracy"
      ],
      "execution_count": 86,
      "outputs": [
        {
          "output_type": "stream",
          "text": [
            "Epoch #0\n",
            "Step #100\tLoss: 0.3366\n",
            "Step #200\tLoss: 0.2872\n",
            "Step #300\tLoss: 0.1684\n",
            "Step #400\tLoss: 0.1383\n",
            "Step #500\tLoss: 0.1959\n",
            "Step #600\tLoss: 0.1525\n",
            "Accuracy #0.95\n",
            "\n",
            "Epoch #1\n",
            "Step #700\tLoss: 0.1228\n",
            "Step #800\tLoss: 0.1241\n",
            "Step #900\tLoss: 0.1190\n",
            "Step #1000\tLoss: 0.1610\n",
            "Step #1100\tLoss: 0.1388\n",
            "Step #1200\tLoss: 0.0728\n",
            "Accuracy #0.97\n",
            "\n",
            "Epoch #2\n",
            "Step #1300\tLoss: 0.0350\n",
            "Step #1400\tLoss: 0.0792\n",
            "Step #1500\tLoss: 0.0983\n",
            "Step #1600\tLoss: 0.1243\n",
            "Step #1700\tLoss: 0.0789\n",
            "Step #1800\tLoss: 0.0269\n",
            "Accuracy #0.97\n",
            "\n",
            "Epoch #3\n",
            "Step #1900\tLoss: 0.0929\n",
            "Step #2000\tLoss: 0.0612\n",
            "Step #2100\tLoss: 0.0212\n",
            "Step #2200\tLoss: 0.0950\n",
            "Step #2300\tLoss: 0.0523\n",
            "Step #2400\tLoss: 0.1281\n",
            "Accuracy #0.98\n",
            "\n",
            "Epoch #4\n",
            "Step #2500\tLoss: 0.0561\n",
            "Step #2600\tLoss: 0.1030\n",
            "Step #2700\tLoss: 0.0372\n",
            "Step #2800\tLoss: 0.1259\n",
            "Step #2900\tLoss: 0.0448\n",
            "Step #3000\tLoss: 0.0891\n",
            "Accuracy #0.98\n",
            "\n",
            "Epoch #5\n",
            "Step #3100\tLoss: 0.0222\n",
            "Step #3200\tLoss: 0.0226\n",
            "Step #3300\tLoss: 0.0107\n",
            "Step #3400\tLoss: 0.0585\n",
            "Step #3500\tLoss: 0.0618\n",
            "Step #3600\tLoss: 0.0310\n",
            "Accuracy #0.98\n",
            "\n",
            "Epoch #6\n",
            "Step #3700\tLoss: 0.0463\n",
            "Step #3800\tLoss: 0.0104\n",
            "Step #3900\tLoss: 0.0330\n",
            "Step #4000\tLoss: 0.0483\n",
            "Step #4100\tLoss: 0.0535\n",
            "Step #4200\tLoss: 0.0259\n",
            "Accuracy #0.98\n",
            "\n",
            "Epoch #7\n",
            "Step #4300\tLoss: 0.0534\n",
            "Step #4400\tLoss: 0.0224\n",
            "Step #4500\tLoss: 0.0388\n",
            "Step #4600\tLoss: 0.0089\n",
            "Step #4700\tLoss: 0.0455\n",
            "Step #4800\tLoss: 0.0324\n",
            "Accuracy #0.98\n",
            "\n",
            "Epoch #8\n",
            "Step #4900\tLoss: 0.0141\n",
            "Step #5000\tLoss: 0.0131\n",
            "Step #5100\tLoss: 0.0156\n",
            "Step #5200\tLoss: 0.0176\n",
            "Step #5300\tLoss: 0.0508\n",
            "Step #5400\tLoss: 0.0187\n",
            "Accuracy #0.98\n",
            "\n",
            "Epoch #9\n",
            "Step #5500\tLoss: 0.0578\n",
            "Step #5600\tLoss: 0.0103\n",
            "Step #5700\tLoss: 0.0290\n",
            "Step #5800\tLoss: 0.0319\n",
            "Step #5900\tLoss: 0.0152\n",
            "Step #6000\tLoss: 0.0035\n",
            "Accuracy #0.98\n",
            "\n"
          ],
          "name": "stdout"
        }
      ]
    },
    {
      "metadata": {
        "id": "-qj0ljo_xD_9",
        "colab_type": "code",
        "colab": {
          "base_uri": "https://localhost:8080/",
          "height": 285
        },
        "outputId": "494ea3f9-8bf5-4400-80a9-f94b8166e052"
      },
      "cell_type": "code",
      "source": [
        "loss_list_deep = sorted(loss_dict_deep.items())\n",
        "\n",
        "x, y = zip(*loss_list_deep) \n",
        "\n",
        "plt.plot(x, y)\n",
        "plt.xlabel('Steps', fontsize=15)\n",
        "plt.ylabel('Loss', fontsize=15)\n",
        "plt.show()"
      ],
      "execution_count": 87,
      "outputs": [
        {
          "output_type": "display_data",
          "data": {
            "image/png": "[encoded data removed]",
            "text/plain": [
              "<matplotlib.figure.Figure at 0x7f4410cdcf28>"
            ]
          },
          "metadata": {
            "tags": []
          }
        }
      ]
    },
    {
      "metadata": {
        "id": "kfWkR663xxCk",
        "colab_type": "code",
        "colab": {
          "base_uri": "https://localhost:8080/",
          "height": 286
        },
        "outputId": "dfed9324-1f00-416c-8706-6a0f09a95d28"
      },
      "cell_type": "code",
      "source": [
        "acc_list_deep = sorted(accuracy_dict_deep.items())\n",
        "\n",
        "x, y = zip(*acc_list_deep) \n",
        "\n",
        "plt.plot(x, y)\n",
        "plt.xlabel('Epochs', fontsize=18)\n",
        "plt.ylabel('Accuracy', fontsize=16)\n",
        "plt.show()"
      ],
      "execution_count": 88,
      "outputs": [
        {
          "output_type": "display_data",
          "data": {
            "image/png": "[encoded data removed]",
            "text/plain": [
              "<matplotlib.figure.Figure at 0x7f4410cfa978>"
            ]
          },
          "metadata": {
            "tags": []
          }
        }
      ]
    },
    {
      "metadata": {
        "id": "OKoHQLXaxzfK",
        "colab_type": "code",
        "colab": {}
      },
      "cell_type": "code",
      "source": [
        "optimizer = tf.train.GradientDescentOptimizer(learning_rate=1.0)"
      ],
      "execution_count": 0,
      "outputs": []
    },
    {
      "metadata": {
        "id": "WIctQpWix6bX",
        "colab_type": "code",
        "colab": {}
      },
      "cell_type": "code",
      "source": [
        "class DeepModel(tf.keras.Model):\n",
        "    def __init__(self):\n",
        "        super(DeepModel, self).__init__()\n",
        "        self.flatten  = tf.keras.layers.Flatten()\n",
        "        self.dense_1  = tf.keras.layers.Dense(512, activation=tf.nn.relu)\n",
        "        self.droupout = tf.keras.layers.Dropout(0.2)\n",
        "        self.dense_2  = tf.keras.layers.Dense(10)\n",
        "   \n",
        "\n",
        "    def call(self, x):\n",
        "        x = self.flatten(x)\n",
        "        x = self.dense_1(x)\n",
        "        x = self.droupout(x)\n",
        "        x = self.dense_2(x)\n",
        "        return x"
      ],
      "execution_count": 0,
      "outputs": []
    },
    {
      "metadata": {
        "id": "yENHDcHqx8Zz",
        "colab_type": "code",
        "colab": {
          "base_uri": "https://localhost:8080/",
          "height": 1547
        },
        "outputId": "25bfdf24-611d-4349-af21-da9cbc328a74"
      },
      "cell_type": "code",
      "source": [
        "model = DeepModel()\n",
        "\n",
        "\n",
        "loss_dict_deep = {}\n",
        "accuracy_dict_deep = {}\n",
        "\n",
        "epochs = 10\n",
        "step_counter = 0\n",
        "\n",
        "for epoch_n in range(epochs):\n",
        "  print('Epoch #%d' % (epoch_n))\n",
        "  for (batch, (images, labels)) in enumerate(train_dataset):\n",
        "    loss_value = train(model, images, labels)\n",
        "    step_counter +=1\n",
        "  \n",
        "    if step_counter % 100 == 0:\n",
        "      print('Step #%d\\tLoss: %.4f' % (step_counter, loss_value))\n",
        "      loss_dict_deep[step_counter] = loss_value\n",
        "\n",
        "  test_accuracy = compute_accuracy(model(x_test), y_test)\n",
        "  print('Accuracy #%.2f\\n' % (test_accuracy))\n",
        "  accuracy_dict_deep[epoch_n] = test_accuracy"
      ],
      "execution_count": 91,
      "outputs": [
        {
          "output_type": "stream",
          "text": [
            "Epoch #0\n",
            "Step #100\tLoss: 0.4409\n",
            "Step #200\tLoss: 0.2471\n",
            "Step #300\tLoss: 0.1759\n",
            "Step #400\tLoss: 0.1525\n",
            "Step #500\tLoss: 0.1969\n",
            "Step #600\tLoss: 0.1104\n",
            "Accuracy #0.96\n",
            "\n",
            "Epoch #1\n",
            "Step #700\tLoss: 0.0990\n",
            "Step #800\tLoss: 0.0652\n",
            "Step #900\tLoss: 0.0805\n",
            "Step #1000\tLoss: 0.0702\n",
            "Step #1100\tLoss: 0.0742\n",
            "Step #1200\tLoss: 0.0516\n",
            "Accuracy #0.97\n",
            "\n",
            "Epoch #2\n",
            "Step #1300\tLoss: 0.0771\n",
            "Step #1400\tLoss: 0.0248\n",
            "Step #1500\tLoss: 0.0489\n",
            "Step #1600\tLoss: 0.0435\n",
            "Step #1700\tLoss: 0.0389\n",
            "Step #1800\tLoss: 0.0388\n",
            "Accuracy #0.98\n",
            "\n",
            "Epoch #3\n",
            "Step #1900\tLoss: 0.0395\n",
            "Step #2000\tLoss: 0.0357\n",
            "Step #2100\tLoss: 0.0920\n",
            "Step #2200\tLoss: 0.1122\n",
            "Step #2300\tLoss: 0.0215\n",
            "Step #2400\tLoss: 0.0087\n",
            "Accuracy #0.98\n",
            "\n",
            "Epoch #4\n",
            "Step #2500\tLoss: 0.0306\n",
            "Step #2600\tLoss: 0.0317\n",
            "Step #2700\tLoss: 0.0155\n",
            "Step #2800\tLoss: 0.0446\n",
            "Step #2900\tLoss: 0.0542\n",
            "Step #3000\tLoss: 0.0070\n",
            "Accuracy #0.98\n",
            "\n",
            "Epoch #5\n",
            "Step #3100\tLoss: 0.0047\n",
            "Step #3200\tLoss: 0.0401\n",
            "Step #3300\tLoss: 0.0299\n",
            "Step #3400\tLoss: 0.0072\n",
            "Step #3500\tLoss: 0.0270\n",
            "Step #3600\tLoss: 0.0245\n",
            "Accuracy #0.98\n",
            "\n",
            "Epoch #6\n",
            "Step #3700\tLoss: 0.0591\n",
            "Step #3800\tLoss: 0.0159\n",
            "Step #3900\tLoss: 0.0014\n",
            "Step #4000\tLoss: 0.0099\n",
            "Step #4100\tLoss: 0.0131\n",
            "Step #4200\tLoss: 0.0033\n",
            "Accuracy #0.98\n",
            "\n",
            "Epoch #7\n",
            "Step #4300\tLoss: 0.0196\n",
            "Step #4400\tLoss: 0.0067\n",
            "Step #4500\tLoss: 0.0047\n",
            "Step #4600\tLoss: 0.0141\n",
            "Step #4700\tLoss: 0.0112\n",
            "Step #4800\tLoss: 0.0098\n",
            "Accuracy #0.98\n",
            "\n",
            "Epoch #8\n",
            "Step #4900\tLoss: 0.0014\n",
            "Step #5000\tLoss: 0.0043\n",
            "Step #5100\tLoss: 0.0091\n",
            "Step #5200\tLoss: 0.0009\n",
            "Step #5300\tLoss: 0.0118\n",
            "Step #5400\tLoss: 0.0030\n",
            "Accuracy #0.98\n",
            "\n",
            "Epoch #9\n",
            "Step #5500\tLoss: 0.0021\n",
            "Step #5600\tLoss: 0.0062\n",
            "Step #5700\tLoss: 0.0017\n",
            "Step #5800\tLoss: 0.0010\n",
            "Step #5900\tLoss: 0.0021\n",
            "Step #6000\tLoss: 0.0069\n",
            "Accuracy #0.98\n",
            "\n"
          ],
          "name": "stdout"
        }
      ]
    },
    {
      "metadata": {
        "id": "L0Nkdlhwx--s",
        "colab_type": "code",
        "colab": {
          "base_uri": "https://localhost:8080/",
          "height": 283
        },
        "outputId": "08a89223-6906-4002-c719-055636f7ed07"
      },
      "cell_type": "code",
      "source": [
        "loss_list_deep = sorted(loss_dict_deep.items())\n",
        "\n",
        "x, y = zip(*loss_list_deep) \n",
        "\n",
        "plt.plot(x, y)\n",
        "plt.xlabel('Steps', fontsize=15)\n",
        "plt.ylabel('Loss', fontsize=15)\n",
        "plt.show()"
      ],
      "execution_count": 92,
      "outputs": [
        {
          "output_type": "display_data",
          "data": {
            "image/png": "[encoded data removed]",
            "text/plain": [
              "<matplotlib.figure.Figure at 0x7f4410f2b9e8>"
            ]
          },
          "metadata": {
            "tags": []
          }
        }
      ]
    },
    {
      "metadata": {
        "id": "SJ5mzGi-yZl7",
        "colab_type": "code",
        "colab": {
          "base_uri": "https://localhost:8080/",
          "height": 286
        },
        "outputId": "4ee9b178-31ec-4965-c8a2-2bca6af8c406"
      },
      "cell_type": "code",
      "source": [
        "acc_list_deep = sorted(accuracy_dict_deep.items())\n",
        "\n",
        "x, y = zip(*acc_list_deep) \n",
        "\n",
        "plt.plot(x, y)\n",
        "plt.xlabel('Epochs', fontsize=18)\n",
        "plt.ylabel('Accuracy', fontsize=16)\n",
        "plt.show()"
      ],
      "execution_count": 93,
      "outputs": [
        {
          "output_type": "display_data",
          "data": {
            "image/png": "[encoded data removed]",
            "text/plain": [
              "<matplotlib.figure.Figure at 0x7f4410fdebe0>"
            ]
          },
          "metadata": {
            "tags": []
          }
        }
      ]
    },
    {
      "metadata": {
        "id": "iyVTyFzUyncM",
        "colab_type": "text"
      },
      "cell_type": "markdown",
      "source": [
        "# Different activation functions."
      ]
    },
    {
      "metadata": {
        "id": "T97vMbeBysQ9",
        "colab_type": "code",
        "colab": {}
      },
      "cell_type": "code",
      "source": [
        "class DeepModel(tf.keras.Model):\n",
        "    def __init__(self):\n",
        "        super(DeepModel, self).__init__()\n",
        "        self.flatten  = tf.keras.layers.Flatten()\n",
        "        self.dense_1  = tf.keras.layers.Dense(512, activation=tf.nn.softmax)\n",
        "        self.droupout = tf.keras.layers.Dropout(0.2)\n",
        "        self.dense_2  = tf.keras.layers.Dense(10)\n",
        "   \n",
        "\n",
        "    def call(self, x):\n",
        "        x = self.flatten(x)\n",
        "        x = self.dense_1(x)\n",
        "        x = self.droupout(x)\n",
        "        x = self.dense_2(x)\n",
        "        return x"
      ],
      "execution_count": 0,
      "outputs": []
    },
    {
      "metadata": {
        "id": "GQw-7Mto3leE",
        "colab_type": "code",
        "colab": {
          "base_uri": "https://localhost:8080/",
          "height": 1547
        },
        "outputId": "af4defa3-cc4b-4106-929d-863a064f61b5"
      },
      "cell_type": "code",
      "source": [
        "model = DeepModel()\n",
        "\n",
        "\n",
        "loss_dict_deep = {}\n",
        "accuracy_dict_deep = {}\n",
        "\n",
        "epochs = 10\n",
        "step_counter = 0\n",
        "\n",
        "for epoch_n in range(epochs):\n",
        "  print('Epoch #%d' % (epoch_n))\n",
        "  for (batch, (images, labels)) in enumerate(train_dataset):\n",
        "    loss_value = train(model, images, labels)\n",
        "    step_counter +=1\n",
        "  \n",
        "    if step_counter % 100 == 0:\n",
        "      print('Step #%d\\tLoss: %.4f' % (step_counter, loss_value))\n",
        "      loss_dict_deep[step_counter] = loss_value\n",
        "\n",
        "  test_accuracy = compute_accuracy(model(x_test), y_test)\n",
        "  print('Accuracy #%.2f\\n' % (test_accuracy))\n",
        "  accuracy_dict_deep[epoch_n] = test_accuracy"
      ],
      "execution_count": 95,
      "outputs": [
        {
          "output_type": "stream",
          "text": [
            "Epoch #0\n",
            "Step #100\tLoss: 2.3016\n",
            "Step #200\tLoss: 2.3099\n",
            "Step #300\tLoss: 2.2867\n",
            "Step #400\tLoss: 2.2001\n",
            "Step #500\tLoss: 1.5921\n",
            "Step #600\tLoss: 1.2832\n",
            "Accuracy #0.48\n",
            "\n",
            "Epoch #1\n",
            "Step #700\tLoss: 1.1796\n",
            "Step #800\tLoss: 1.1102\n",
            "Step #900\tLoss: 1.0845\n",
            "Step #1000\tLoss: 0.9926\n",
            "Step #1100\tLoss: 1.1147\n",
            "Step #1200\tLoss: 1.1315\n",
            "Accuracy #0.57\n",
            "\n",
            "Epoch #2\n",
            "Step #1300\tLoss: 1.1064\n",
            "Step #1400\tLoss: 0.9547\n",
            "Step #1500\tLoss: 1.0144\n",
            "Step #1600\tLoss: 1.1418\n",
            "Step #1700\tLoss: 1.0689\n",
            "Step #1800\tLoss: 0.9634\n",
            "Accuracy #0.57\n",
            "\n",
            "Epoch #3\n",
            "Step #1900\tLoss: 1.0477\n",
            "Step #2000\tLoss: 1.0914\n",
            "Step #2100\tLoss: 1.1309\n",
            "Step #2200\tLoss: 0.7927\n",
            "Step #2300\tLoss: 0.8866\n",
            "Step #2400\tLoss: 0.7307\n",
            "Accuracy #0.63\n",
            "\n",
            "Epoch #4\n",
            "Step #2500\tLoss: 1.0460\n",
            "Step #2600\tLoss: 0.7644\n",
            "Step #2700\tLoss: 0.7742\n",
            "Step #2800\tLoss: 0.9228\n",
            "Step #2900\tLoss: 0.8200\n",
            "Step #3000\tLoss: 0.6854\n",
            "Accuracy #0.68\n",
            "\n",
            "Epoch #5\n",
            "Step #3100\tLoss: 0.7576\n",
            "Step #3200\tLoss: 0.7757\n",
            "Step #3300\tLoss: 0.8004\n",
            "Step #3400\tLoss: 0.7677\n",
            "Step #3500\tLoss: 1.0171\n",
            "Step #3600\tLoss: 0.7875\n",
            "Accuracy #0.67\n",
            "\n",
            "Epoch #6\n",
            "Step #3700\tLoss: 0.9283\n",
            "Step #3800\tLoss: 0.7211\n",
            "Step #3900\tLoss: 0.8534\n",
            "Step #4000\tLoss: 0.7104\n",
            "Step #4100\tLoss: 0.8092\n",
            "Step #4200\tLoss: 0.8109\n",
            "Accuracy #0.68\n",
            "\n",
            "Epoch #7\n",
            "Step #4300\tLoss: 0.9217\n",
            "Step #4400\tLoss: 0.8552\n",
            "Step #4500\tLoss: 0.8547\n",
            "Step #4600\tLoss: 0.7326\n",
            "Step #4700\tLoss: 0.7942\n",
            "Step #4800\tLoss: 0.7541\n",
            "Accuracy #0.67\n",
            "\n",
            "Epoch #8\n",
            "Step #4900\tLoss: 0.6939\n",
            "Step #5000\tLoss: 0.7936\n",
            "Step #5100\tLoss: 0.9143\n",
            "Step #5200\tLoss: 0.7645\n",
            "Step #5300\tLoss: 0.6669\n",
            "Step #5400\tLoss: 0.7599\n",
            "Accuracy #0.68\n",
            "\n",
            "Epoch #9\n",
            "Step #5500\tLoss: 0.6986\n",
            "Step #5600\tLoss: 0.6375\n",
            "Step #5700\tLoss: 0.7327\n",
            "Step #5800\tLoss: 0.8967\n",
            "Step #5900\tLoss: 0.7273\n",
            "Step #6000\tLoss: 0.8795\n",
            "Accuracy #0.70\n",
            "\n"
          ],
          "name": "stdout"
        }
      ]
    },
    {
      "metadata": {
        "id": "qXnkBwWE4Pgf",
        "colab_type": "code",
        "colab": {
          "base_uri": "https://localhost:8080/",
          "height": 283
        },
        "outputId": "2aec8b47-e922-4056-a439-360e6171165a"
      },
      "cell_type": "code",
      "source": [
        "loss_list_deep = sorted(loss_dict_deep.items())\n",
        "\n",
        "x, y = zip(*loss_list_deep) \n",
        "\n",
        "plt.plot(x, y)\n",
        "plt.xlabel('Steps', fontsize=15)\n",
        "plt.ylabel('Loss', fontsize=15)\n",
        "plt.show()"
      ],
      "execution_count": 96,
      "outputs": [
        {
          "output_type": "display_data",
          "data": {
            "image/png": "[encoded data removed]",
            "text/plain": [
              "<matplotlib.figure.Figure at 0x7f4413cb0f60>"
            ]
          },
          "metadata": {
            "tags": []
          }
        }
      ]
    },
    {
      "metadata": {
        "id": "ewG1R9uQ4WbU",
        "colab_type": "code",
        "colab": {
          "base_uri": "https://localhost:8080/",
          "height": 286
        },
        "outputId": "11ee19d6-4b21-44e1-8855-b8649f7b6736"
      },
      "cell_type": "code",
      "source": [
        "acc_list_deep = sorted(accuracy_dict_deep.items())\n",
        "\n",
        "x, y = zip(*acc_list_deep) \n",
        "\n",
        "plt.plot(x, y)\n",
        "plt.xlabel('Epochs', fontsize=18)\n",
        "plt.ylabel('Accuracy', fontsize=16)\n",
        "plt.show()"
      ],
      "execution_count": 97,
      "outputs": [
        {
          "output_type": "display_data",
          "data": {
            "image/png": "[encoded data removed]",
            "text/plain": [
              "<matplotlib.figure.Figure at 0x7f4411325860>"
            ]
          },
          "metadata": {
            "tags": []
          }
        }
      ]
    },
    {
      "metadata": {
        "id": "esp3RECq4awd",
        "colab_type": "text"
      },
      "cell_type": "markdown",
      "source": [
        "***Accuracy: 70%***"
      ]
    },
    {
      "metadata": {
        "id": "ZZCjRYb04hYg",
        "colab_type": "code",
        "colab": {}
      },
      "cell_type": "code",
      "source": [
        "class DeepModel(tf.keras.Model):\n",
        "    def __init__(self):\n",
        "        super(DeepModel, self).__init__()\n",
        "        self.flatten  = tf.keras.layers.Flatten()\n",
        "        self.dense_1  = tf.keras.layers.Dense(512, activation=tf.nn.sigmoid)\n",
        "        self.droupout = tf.keras.layers.Dropout(0.2)\n",
        "        self.dense_2  = tf.keras.layers.Dense(10)\n",
        "   \n",
        "\n",
        "    def call(self, x):\n",
        "        x = self.flatten(x)\n",
        "        x = self.dense_1(x)\n",
        "        x = self.droupout(x)\n",
        "        x = self.dense_2(x)\n",
        "        return x"
      ],
      "execution_count": 0,
      "outputs": []
    },
    {
      "metadata": {
        "id": "6SBJzD7K4pkP",
        "colab_type": "code",
        "colab": {
          "base_uri": "https://localhost:8080/",
          "height": 1547
        },
        "outputId": "2b9acc99-ae3f-4894-ca43-6245a74e64ef"
      },
      "cell_type": "code",
      "source": [
        "model = DeepModel()\n",
        "\n",
        "\n",
        "loss_dict_deep = {}\n",
        "accuracy_dict_deep = {}\n",
        "\n",
        "epochs = 10\n",
        "step_counter = 0\n",
        "\n",
        "for epoch_n in range(epochs):\n",
        "  print('Epoch #%d' % (epoch_n))\n",
        "  for (batch, (images, labels)) in enumerate(train_dataset):\n",
        "    loss_value = train(model, images, labels)\n",
        "    step_counter +=1\n",
        "  \n",
        "    if step_counter % 100 == 0:\n",
        "      print('Step #%d\\tLoss: %.4f' % (step_counter, loss_value))\n",
        "      loss_dict_deep[step_counter] = loss_value\n",
        "\n",
        "  test_accuracy = compute_accuracy(model(x_test), y_test)\n",
        "  print('Accuracy #%.2f\\n' % (test_accuracy))\n",
        "  accuracy_dict_deep[epoch_n] = test_accuracy"
      ],
      "execution_count": 99,
      "outputs": [
        {
          "output_type": "stream",
          "text": [
            "Epoch #0\n",
            "Step #100\tLoss: 0.5743\n",
            "Step #200\tLoss: 0.3658\n",
            "Step #300\tLoss: 0.4583\n",
            "Step #400\tLoss: 0.2785\n",
            "Step #500\tLoss: 0.3516\n",
            "Step #600\tLoss: 0.2054\n",
            "Accuracy #0.93\n",
            "\n",
            "Epoch #1\n",
            "Step #700\tLoss: 0.2612\n",
            "Step #800\tLoss: 0.1717\n",
            "Step #900\tLoss: 0.2255\n",
            "Step #1000\tLoss: 0.2252\n",
            "Step #1100\tLoss: 0.1569\n",
            "Step #1200\tLoss: 0.0621\n",
            "Accuracy #0.95\n",
            "\n",
            "Epoch #2\n",
            "Step #1300\tLoss: 0.2524\n",
            "Step #1400\tLoss: 0.0759\n",
            "Step #1500\tLoss: 0.1794\n",
            "Step #1600\tLoss: 0.1400\n",
            "Step #1700\tLoss: 0.1130\n",
            "Step #1800\tLoss: 0.1074\n",
            "Accuracy #0.96\n",
            "\n",
            "Epoch #3\n",
            "Step #1900\tLoss: 0.0834\n",
            "Step #2000\tLoss: 0.1127\n",
            "Step #2100\tLoss: 0.0714\n",
            "Step #2200\tLoss: 0.1190\n",
            "Step #2300\tLoss: 0.0553\n",
            "Step #2400\tLoss: 0.0632\n",
            "Accuracy #0.96\n",
            "\n",
            "Epoch #4\n",
            "Step #2500\tLoss: 0.0866\n",
            "Step #2600\tLoss: 0.0804\n",
            "Step #2700\tLoss: 0.1344\n",
            "Step #2800\tLoss: 0.0772\n",
            "Step #2900\tLoss: 0.1164\n",
            "Step #3000\tLoss: 0.1000\n",
            "Accuracy #0.97\n",
            "\n",
            "Epoch #5\n",
            "Step #3100\tLoss: 0.0306\n",
            "Step #3200\tLoss: 0.0492\n",
            "Step #3300\tLoss: 0.0421\n",
            "Step #3400\tLoss: 0.0877\n",
            "Step #3500\tLoss: 0.0803\n",
            "Step #3600\tLoss: 0.0634\n",
            "Accuracy #0.97\n",
            "\n",
            "Epoch #6\n",
            "Step #3700\tLoss: 0.0293\n",
            "Step #3800\tLoss: 0.0845\n",
            "Step #3900\tLoss: 0.0352\n",
            "Step #4000\tLoss: 0.0790\n",
            "Step #4100\tLoss: 0.0665\n",
            "Step #4200\tLoss: 0.0382\n",
            "Accuracy #0.97\n",
            "\n",
            "Epoch #7\n",
            "Step #4300\tLoss: 0.1395\n",
            "Step #4400\tLoss: 0.0212\n",
            "Step #4500\tLoss: 0.0422\n",
            "Step #4600\tLoss: 0.0455\n",
            "Step #4700\tLoss: 0.0252\n",
            "Step #4800\tLoss: 0.0403\n",
            "Accuracy #0.97\n",
            "\n",
            "Epoch #8\n",
            "Step #4900\tLoss: 0.0659\n",
            "Step #5000\tLoss: 0.0435\n",
            "Step #5100\tLoss: 0.0855\n",
            "Step #5200\tLoss: 0.0425\n",
            "Step #5300\tLoss: 0.0410\n",
            "Step #5400\tLoss: 0.0280\n",
            "Accuracy #0.98\n",
            "\n",
            "Epoch #9\n",
            "Step #5500\tLoss: 0.0426\n",
            "Step #5600\tLoss: 0.0453\n",
            "Step #5700\tLoss: 0.0637\n",
            "Step #5800\tLoss: 0.0654\n",
            "Step #5900\tLoss: 0.0800\n",
            "Step #6000\tLoss: 0.0272\n",
            "Accuracy #0.98\n",
            "\n"
          ],
          "name": "stdout"
        }
      ]
    },
    {
      "metadata": {
        "id": "8zjIWQKr4qMC",
        "colab_type": "code",
        "colab": {
          "base_uri": "https://localhost:8080/",
          "height": 287
        },
        "outputId": "c8b9c93e-57d2-4103-9714-3b2a7c8e6b19"
      },
      "cell_type": "code",
      "source": [
        "loss_list_deep = sorted(loss_dict_deep.items())\n",
        "\n",
        "x, y = zip(*loss_list_deep) \n",
        "\n",
        "plt.plot(x, y)\n",
        "plt.xlabel('Steps', fontsize=15)\n",
        "plt.ylabel('Loss', fontsize=15)\n",
        "plt.show()"
      ],
      "execution_count": 100,
      "outputs": [
        {
          "output_type": "display_data",
          "data": {
            "image/png": "[encoded data removed]",
            "text/plain": [
              "<matplotlib.figure.Figure at 0x7f44111ff2e8>"
            ]
          },
          "metadata": {
            "tags": []
          }
        }
      ]
    },
    {
      "metadata": {
        "id": "iLrh1mXO5Fqu",
        "colab_type": "code",
        "colab": {
          "base_uri": "https://localhost:8080/",
          "height": 286
        },
        "outputId": "ab17fa52-fd60-4923-f145-d71eb3679686"
      },
      "cell_type": "code",
      "source": [
        "acc_list_deep = sorted(accuracy_dict_deep.items())\n",
        "\n",
        "x, y = zip(*acc_list_deep) \n",
        "\n",
        "plt.plot(x, y)\n",
        "plt.xlabel('Epochs', fontsize=18)\n",
        "plt.ylabel('Accuracy', fontsize=16)\n",
        "plt.show()"
      ],
      "execution_count": 101,
      "outputs": [
        {
          "output_type": "display_data",
          "data": {
            "image/png": "[encoded data removed]",
            "text/plain": [
              "<matplotlib.figure.Figure at 0x7f4411207cf8>"
            ]
          },
          "metadata": {
            "tags": []
          }
        }
      ]
    },
    {
      "metadata": {
        "id": "I5iVvMCA5Lvy",
        "colab_type": "text"
      },
      "cell_type": "markdown",
      "source": [
        "***Accuracy: 98%***"
      ]
    },
    {
      "metadata": {
        "id": "PJRR7Css5YPd",
        "colab_type": "code",
        "colab": {}
      },
      "cell_type": "code",
      "source": [
        "class DeepModel(tf.keras.Model):\n",
        "    def __init__(self):\n",
        "        super(DeepModel, self).__init__()\n",
        "        self.flatten  = tf.keras.layers.Flatten()\n",
        "        self.dense_1  = tf.keras.layers.Dense(512, activation=tf.nn.tanh)\n",
        "        self.droupout = tf.keras.layers.Dropout(0.2)\n",
        "        self.dense_2  = tf.keras.layers.Dense(10)\n",
        "   \n",
        "\n",
        "    def call(self, x):\n",
        "        x = self.flatten(x)\n",
        "        x = self.dense_1(x)\n",
        "        x = self.droupout(x)\n",
        "        x = self.dense_2(x)\n",
        "        return x"
      ],
      "execution_count": 0,
      "outputs": []
    },
    {
      "metadata": {
        "id": "sb5hcI185qu4",
        "colab_type": "code",
        "colab": {
          "base_uri": "https://localhost:8080/",
          "height": 1547
        },
        "outputId": "275257e7-01b3-49b8-d7a3-0e683f74d932"
      },
      "cell_type": "code",
      "source": [
        "model = DeepModel()\n",
        "\n",
        "\n",
        "loss_dict_deep = {}\n",
        "accuracy_dict_deep = {}\n",
        "\n",
        "epochs = 10\n",
        "step_counter = 0\n",
        "\n",
        "for epoch_n in range(epochs):\n",
        "  print('Epoch #%d' % (epoch_n))\n",
        "  for (batch, (images, labels)) in enumerate(train_dataset):\n",
        "    loss_value = train(model, images, labels)\n",
        "    step_counter +=1\n",
        "  \n",
        "    if step_counter % 100 == 0:\n",
        "      print('Step #%d\\tLoss: %.4f' % (step_counter, loss_value))\n",
        "      loss_dict_deep[step_counter] = loss_value\n",
        "\n",
        "  test_accuracy = compute_accuracy(model(x_test), y_test)\n",
        "  print('Accuracy #%.2f\\n' % (test_accuracy))\n",
        "  accuracy_dict_deep[epoch_n] = test_accuracy"
      ],
      "execution_count": 103,
      "outputs": [
        {
          "output_type": "stream",
          "text": [
            "Epoch #0\n",
            "Step #100\tLoss: 3.3684\n",
            "Step #200\tLoss: 4.0215\n",
            "Step #300\tLoss: 2.7848\n",
            "Step #400\tLoss: 2.0284\n",
            "Step #500\tLoss: 1.2254\n",
            "Step #600\tLoss: 0.2292\n",
            "Accuracy #0.93\n",
            "\n",
            "Epoch #1\n",
            "Step #700\tLoss: 3.6676\n",
            "Step #800\tLoss: 4.8589\n",
            "Step #900\tLoss: 0.5793\n",
            "Step #1000\tLoss: 0.7847\n",
            "Step #1100\tLoss: 1.1604\n",
            "Step #1200\tLoss: 0.6113\n",
            "Accuracy #0.94\n",
            "\n",
            "Epoch #2\n",
            "Step #1300\tLoss: 0.8401\n",
            "Step #1400\tLoss: 1.3637\n",
            "Step #1500\tLoss: 1.2162\n",
            "Step #1600\tLoss: 1.3304\n",
            "Step #1700\tLoss: 0.7198\n",
            "Step #1800\tLoss: 0.3079\n",
            "Accuracy #0.94\n",
            "\n",
            "Epoch #3\n",
            "Step #1900\tLoss: 0.6829\n",
            "Step #2000\tLoss: 0.1462\n",
            "Step #2100\tLoss: 0.4382\n",
            "Step #2200\tLoss: 0.6022\n",
            "Step #2300\tLoss: 0.7583\n",
            "Step #2400\tLoss: 0.4395\n",
            "Accuracy #0.95\n",
            "\n",
            "Epoch #4\n",
            "Step #2500\tLoss: 0.5744\n",
            "Step #2600\tLoss: 0.1956\n",
            "Step #2700\tLoss: 0.2329\n",
            "Step #2800\tLoss: 0.4471\n",
            "Step #2900\tLoss: 0.9659\n",
            "Step #3000\tLoss: 0.7672\n",
            "Accuracy #0.94\n",
            "\n",
            "Epoch #5\n",
            "Step #3100\tLoss: 0.7304\n",
            "Step #3200\tLoss: 0.3450\n",
            "Step #3300\tLoss: 0.1407\n",
            "Step #3400\tLoss: 0.0147\n",
            "Step #3500\tLoss: 0.0624\n",
            "Step #3600\tLoss: 0.2252\n",
            "Accuracy #0.97\n",
            "\n",
            "Epoch #6\n",
            "Step #3700\tLoss: 0.1812\n",
            "Step #3800\tLoss: 0.5778\n",
            "Step #3900\tLoss: 0.1264\n",
            "Step #4000\tLoss: 0.3207\n",
            "Step #4100\tLoss: 0.1278\n",
            "Step #4200\tLoss: 0.1542\n",
            "Accuracy #0.97\n",
            "\n",
            "Epoch #7\n",
            "Step #4300\tLoss: 0.3391\n",
            "Step #4400\tLoss: 0.0848\n",
            "Step #4500\tLoss: 0.2020\n",
            "Step #4600\tLoss: 0.0000\n",
            "Step #4700\tLoss: 0.4987\n",
            "Step #4800\tLoss: 0.1650\n",
            "Accuracy #0.97\n",
            "\n",
            "Epoch #8\n",
            "Step #4900\tLoss: 0.1444\n",
            "Step #5000\tLoss: 0.0001\n",
            "Step #5100\tLoss: 0.1251\n",
            "Step #5200\tLoss: 0.2175\n",
            "Step #5300\tLoss: 0.0069\n",
            "Step #5400\tLoss: 0.0011\n",
            "Accuracy #0.96\n",
            "\n",
            "Epoch #9\n",
            "Step #5500\tLoss: 0.0068\n",
            "Step #5600\tLoss: 0.0001\n",
            "Step #5700\tLoss: 0.0277\n",
            "Step #5800\tLoss: 0.2899\n",
            "Step #5900\tLoss: 0.4355\n",
            "Step #6000\tLoss: 0.1470\n",
            "Accuracy #0.96\n",
            "\n"
          ],
          "name": "stdout"
        }
      ]
    },
    {
      "metadata": {
        "id": "4-Gzni0v5x7V",
        "colab_type": "code",
        "colab": {
          "base_uri": "https://localhost:8080/",
          "height": 283
        },
        "outputId": "37c60d60-bed5-442a-bd02-ec7617c1d879"
      },
      "cell_type": "code",
      "source": [
        "loss_list_deep = sorted(loss_dict_deep.items())\n",
        "\n",
        "x, y = zip(*loss_list_deep) \n",
        "\n",
        "plt.plot(x, y)\n",
        "plt.xlabel('Steps', fontsize=15)\n",
        "plt.ylabel('Loss', fontsize=15)\n",
        "plt.show()"
      ],
      "execution_count": 104,
      "outputs": [
        {
          "output_type": "display_data",
          "data": {
            "image/png": "[encoded data removed]",
            "text/plain": [
              "<matplotlib.figure.Figure at 0x7f4410cb7198>"
            ]
          },
          "metadata": {
            "tags": []
          }
        }
      ]
    },
    {
      "metadata": {
        "id": "2rIflQb_6PVJ",
        "colab_type": "code",
        "colab": {
          "base_uri": "https://localhost:8080/",
          "height": 288
        },
        "outputId": "e2ffbebb-39c0-471f-c2c8-af203d5bec2b"
      },
      "cell_type": "code",
      "source": [
        "acc_list_deep = sorted(accuracy_dict_deep.items())\n",
        "\n",
        "x, y = zip(*acc_list_deep) \n",
        "\n",
        "plt.plot(x, y)\n",
        "plt.xlabel('Epochs', fontsize=18)\n",
        "plt.ylabel('Accuracy', fontsize=16)\n",
        "plt.show()"
      ],
      "execution_count": 105,
      "outputs": [
        {
          "output_type": "display_data",
          "data": {
            "image/png": "[encoded data removed]",
            "text/plain": [
              "<matplotlib.figure.Figure at 0x7f44111f8208>"
            ]
          },
          "metadata": {
            "tags": []
          }
        }
      ]
    },
    {
      "metadata": {
        "id": "lqfxe79M6UV3",
        "colab_type": "text"
      },
      "cell_type": "markdown",
      "source": [
        "***Accuracy:96%***"
      ]
    },
    {
      "metadata": {
        "id": "6Z-vBM7WP3D0",
        "colab_type": "text"
      },
      "cell_type": "markdown",
      "source": [
        "# Observations"
      ]
    },
    {
      "metadata": {
        "id": "nFMTtQn9ktj3",
        "colab_type": "code",
        "colab": {}
      },
      "cell_type": "code",
      "source": [
        ""
      ],
      "execution_count": 0,
      "outputs": []
    },
    {
      "metadata": {
        "id": "_UUJNdYZP65O",
        "colab_type": "text"
      },
      "cell_type": "markdown",
      "source": [
        "***A] Different learning rates:***\n",
        " \n",
        "\n",
        "1.By using different learning rates  to train linear model , illustrates what is usually the ideal learning rate to train your model\n",
        "\n",
        "\n",
        "2.By observing diffrent values , we can conclude that, lower the learning rate, higher the accuracy"
      ]
    },
    {
      "metadata": {
        "id": "lE5uO6nfQBAU",
        "colab_type": "text"
      },
      "cell_type": "markdown",
      "source": [
        "***B] Different activation functions:***\n",
        "\n",
        "\n",
        "\n",
        "1. Every activation function has different properties and might give different outputs depending on the complexity of the model.from that we can conculd that there is no specific rule for picking an activation function \n",
        "    e.g. For Sigmoid: The range of the sigmoid function is from 0 to 1 and it is generally used for binary classification \n",
        "\n",
        "2.However, considering the above deep model case where two different dense layer exist, adding a relu activation provided the best output i.e. 0.98\n",
        "\n",
        "3.Thus, we can conclude that for a neural network, adding a relu activation function between layers can give the best result because of it's non-saturating property, also, it is faster than other activation functions."
      ]
    }
  ]
}